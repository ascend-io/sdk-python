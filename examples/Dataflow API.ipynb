{
 "cells": [
  {
   "cell_type": "markdown",
   "metadata": {},
   "source": [
    "# Accessing Dataflows in Ascend from Python\n",
    "\n",
    "This notebook demonstrates how to use the \n",
    "[Ascend SDK for Python](https://github.com/ascend-io/ascend-python-sdk) to access Dataflows, their components, and the data they produce.\n",
    "\n",
    "## Configuration\n",
    "\n",
    "> If you are not already an Ascend user you can [Request a Free Trial](https://www.ascend.io/get-started/)\n",
    "\n",
    "This notebook will connect to your Ascend environment via a Web API using a Service Account you create for in the Ascend UI.\n",
    "\n",
    "If you are using the `trial.ascend.io` environment, you will not be able to create a Service Account for the \n",
    "Data Service **Getting Started with Ascend**, so change `DATA_SERVICE` to the `id` of your Data Service.\n",
    "You may want to [import the `Tutorial` Dataflow](https://developer.ascend.io/docs/exporting-importing) in your Data Service first so that you can follow along with the examples here.\n",
    "\n",
    "If you are not on `trial.ascend.io`, change `host` to the hostname of your Ascend environment,\n",
    "and (optionally) modify the `profile` under which your credentials are stored.\n"
   ]
  },
  {
   "cell_type": "code",
   "execution_count": 1,
   "metadata": {},
   "outputs": [],
   "source": [
    "host = \"trial.ascend.io\"\n",
    "profile = \"trial\"\n",
    "DATA_SERVICE = 'Getting_Started_with_Ascend'"
   ]
  },
  {
   "cell_type": "markdown",
   "metadata": {},
   "source": [
    "## Credentials\n",
    "\n",
    "To run this notebook, access Data Feeds from Python, you will need\n",
    "\n",
    "  * a Service Account with `READ ONLY` permission\n",
    "  * an Access Key ID and Secret for that Service Account\n",
    "\n",
    "You can create these in the Ascend UI by going to **Data Service > Service Accounts**.\n",
    "If you are using `trial.ascend.io`, create the Service Account in your own Data Service.\n",
    "Otherwise, select the Data Service **Getting Started with Ascend** and create a Service Account there.\n",
    "\n",
    "Access Keys should not be stored in a notebook. \n",
    "Instead, this notebook will look for them in `~/.ascend/credentials` on the machine where your Jupyter server is running.\n",
    "Your `~/.ascend/credentials` file should look like this (substitute your Ascend Access Key ID and Secret Access Key):\n",
    "```\n",
    "[trial]\n",
    "ascend_access_key_id=Y0URACC355K3Y1D\n",
    "ascend_secret_access_key=yourSecret!AccessKeyisthelong1\n",
    "```\n",
    "\n",
    "Once you have a `credentials` file, you can read it with `configparser` and\n",
    "create a `Client` to connect to the host using your credentials."
   ]
  },
  {
   "cell_type": "code",
   "execution_count": 2,
   "metadata": {},
   "outputs": [
    {
     "data": {
      "text/plain": [
       "<ascend.client.Client at 0x10eea0110>"
      ]
     },
     "execution_count": 2,
     "metadata": {},
     "output_type": "execute_result"
    }
   ],
   "source": [
    "from ascend.client import Client\n",
    "import configparser\n",
    "import os\n",
    "\n",
    "\n",
    "config = configparser.ConfigParser()\n",
    "config.read(os.path.expanduser(\"~/.ascend/credentials\"))\n",
    "\n",
    "access_id = config.get(profile, \"ascend_access_key_id\")\n",
    "secret_key = config.get(profile, \"ascend_secret_access_key\")\n",
    "\n",
    "A = Client(host, access_id, secret_key)\n",
    "A"
   ]
  },
  {
   "cell_type": "markdown",
   "metadata": {},
   "source": [
    "## Connect to a Data Service\n",
    "\n",
    "Use `get_data_service` to connect to a Data Service.\n",
    "\n",
    "You need to provide the `id` of the Data Service you wish to connect to. You can find this `id` in the Ascend UI.\n",
    "\n",
    "This will fail if the Service Account the Client was created with does not have access to the requested Data Service."
   ]
  },
  {
   "cell_type": "code",
   "execution_count": 3,
   "metadata": {},
   "outputs": [
    {
     "data": {
      "text/plain": [
       "<ascend.model.DataService Getting_Started_with_Ascend>"
      ]
     },
     "execution_count": 3,
     "metadata": {},
     "output_type": "execute_result"
    }
   ],
   "source": [
    "ds = A.get_data_service(DATA_SERVICE)\n",
    "ds"
   ]
  },
  {
   "cell_type": "markdown",
   "metadata": {},
   "source": [
    "## List the Dataflows in a Data Service\n",
    "\n",
    "Once you have a Data Service, you can use `list_dataflows` to list the Dataflows that have been defined within the Data Service."
   ]
  },
  {
   "cell_type": "code",
   "execution_count": 4,
   "metadata": {},
   "outputs": [
    {
     "data": {
      "text/plain": [
       "[<ascend.model.Dataflow Getting_Started_with_Ascend.IoT_Device_and_Weather_Analysis>,\n",
       " <ascend.model.Dataflow Getting_Started_with_Ascend.Financial_Data_from_APIs>,\n",
       " <ascend.model.Dataflow Getting_Started_with_Ascend.Tutorial>]"
      ]
     },
     "execution_count": 4,
     "metadata": {},
     "output_type": "execute_result"
    }
   ],
   "source": [
    "list(ds.list_dataflows())\n"
   ]
  },
  {
   "cell_type": "markdown",
   "metadata": {},
   "source": [
    "## Get a Dataflow from a Data Service\n",
    "\n",
    "You can use `get_dataflow` on a Data Service to access a Dataflow within that Data Service.\n",
    "You will need the `id` of the Dataflow, which you can either locate in the UI or copy from the list of dataflows above."
   ]
  },
  {
   "cell_type": "code",
   "execution_count": 5,
   "metadata": {},
   "outputs": [
    {
     "data": {
      "text/plain": [
       "<ascend.model.Dataflow Getting_Started_with_Ascend.Tutorial>"
      ]
     },
     "execution_count": 5,
     "metadata": {},
     "output_type": "execute_result"
    }
   ],
   "source": [
    "df = ds.get_dataflow('Tutorial')\n",
    "df"
   ]
  },
  {
   "cell_type": "markdown",
   "metadata": {},
   "source": [
    "You can also access a Dataflow directly from the `Client`, by providing the `id` of the Data Service as well as the Dataflow."
   ]
  },
  {
   "cell_type": "code",
   "execution_count": 6,
   "metadata": {},
   "outputs": [
    {
     "data": {
      "text/plain": [
       "<ascend.model.Dataflow Getting_Started_with_Ascend.Tutorial>"
      ]
     },
     "execution_count": 6,
     "metadata": {},
     "output_type": "execute_result"
    }
   ],
   "source": [
    "A.get_dataflow(DATA_SERVICE, 'Tutorial')"
   ]
  },
  {
   "cell_type": "markdown",
   "metadata": {},
   "source": [
    "## List Components in a Dataflow\n",
    "\n",
    "You can use `list_components` on a Dataflow to list the components which have been defined in the Dataflow."
   ]
  },
  {
   "cell_type": "code",
   "execution_count": 7,
   "metadata": {},
   "outputs": [
    {
     "data": {
      "text/plain": [
       "[<ascend.model.Component Getting_Started_with_Ascend.Tutorial.NYC_Daily_Cab_Rides_per_Vendor type=DataFeed>,\n",
       " <ascend.model.Component Getting_Started_with_Ascend.Tutorial.Green_Cab type=ReadConnector>,\n",
       " <ascend.model.Component Getting_Started_with_Ascend.Tutorial.Green_Cab_Transform type=Transform>,\n",
       " <ascend.model.Component Getting_Started_with_Ascend.Tutorial.Green_Cab_GCS type=WriteConnector>]"
      ]
     },
     "execution_count": 7,
     "metadata": {},
     "output_type": "execute_result"
    }
   ],
   "source": [
    "df.list_components()"
   ]
  },
  {
   "cell_type": "markdown",
   "metadata": {},
   "source": [
    "## Get a Component from a Dataflow\n",
    "\n",
    "You can access any component in the Dataflow by using `get_component`.\n",
    "You will need to provide the `id` of the component, which can be found in the UI or copied from the list of components above."
   ]
  },
  {
   "cell_type": "code",
   "execution_count": 8,
   "metadata": {},
   "outputs": [
    {
     "data": {
      "text/plain": [
       "<ascend.model.Component Getting_Started_with_Ascend.Tutorial.Green_Cab_Transform type=Transform>"
      ]
     },
     "execution_count": 8,
     "metadata": {},
     "output_type": "execute_result"
    }
   ],
   "source": [
    "comp = df.get_component('Green_Cab_Transform')\n",
    "comp"
   ]
  },
  {
   "cell_type": "markdown",
   "metadata": {},
   "source": [
    "You can also get to a Component directly from the `Client`, \n",
    "by providing the `id`s of the Data Service and the Dataflow as well as the component."
   ]
  },
  {
   "cell_type": "code",
   "execution_count": 9,
   "metadata": {},
   "outputs": [
    {
     "data": {
      "text/plain": [
       "<ascend.model.Component Getting_Started_with_Ascend.Tutorial.Green_Cab_Transform type=Transform>"
      ]
     },
     "execution_count": 9,
     "metadata": {},
     "output_type": "execute_result"
    }
   ],
   "source": [
    "A.get_component(DATA_SERVICE, 'Tutorial', 'Green_Cab_Transform')\n"
   ]
  },
  {
   "cell_type": "markdown",
   "metadata": {},
   "source": [
    "## Read the Records from a Component\n",
    "\n",
    "Once you have a Component, you can use `get_records` to read the records which the component produces.\n",
    "\n",
    "The records can be iterated over as they come through the API,\n",
    "or used to create a Pandas DataFrame."
   ]
  },
  {
   "cell_type": "code",
   "execution_count": 10,
   "metadata": {},
   "outputs": [
    {
     "name": "stdout",
     "output_type": "stream",
     "text": [
      "2016-01-01 2016-01-02 2016-01-03 2016-01-04 2016-01-05 2016-01-06 2016-01-07 2016-01-08 2016-01-09 2016-01-10 2016-01-11 2016-01-12 2016-01-13 2016-01-14 2016-01-15 2016-01-16 2016-01-17 2016-01-18 2016-01-19 2016-01-20 2016-01-21 2016-01-22 2016-01-23 2016-01-24 2016-01-25 2016-01-26 2016-01-27 2016-01-28 2016-01-29 2016-01-30 2016-01-31 2016-01-01 2016-01-02 2016-01-03 2016-01-04 2016-01-05 2016-01-06 2016-01-07 2016-01-08 2016-01-09 2016-01-10 2016-01-11 2016-01-12 2016-01-13 2016-01-14 2016-01-15 2016-01-16 2016-01-17 2016-01-18 2016-01-19 2016-01-20 2016-01-21 2016-01-22 2016-01-23 2016-01-24 2016-01-25 2016-01-26 2016-01-27 2016-01-28 2016-01-29 2016-01-30 2016-01-31 "
     ]
    }
   ],
   "source": [
    "for row in comp.get_records():\n",
    "    print(row[\"pickup_date\"], end=' ', flush=True)"
   ]
  },
  {
   "cell_type": "code",
   "execution_count": 11,
   "metadata": {},
   "outputs": [
    {
     "data": {
      "text/html": [
       "<div>\n",
       "<style scoped>\n",
       "    .dataframe tbody tr th:only-of-type {\n",
       "        vertical-align: middle;\n",
       "    }\n",
       "\n",
       "    .dataframe tbody tr th {\n",
       "        vertical-align: top;\n",
       "    }\n",
       "\n",
       "    .dataframe thead th {\n",
       "        text-align: right;\n",
       "    }\n",
       "</style>\n",
       "<table border=\"1\" class=\"dataframe\">\n",
       "  <thead>\n",
       "    <tr style=\"text-align: right;\">\n",
       "      <th></th>\n",
       "      <th>VendorID</th>\n",
       "      <th>pickup_date</th>\n",
       "      <th>ride_count</th>\n",
       "    </tr>\n",
       "  </thead>\n",
       "  <tbody>\n",
       "    <tr>\n",
       "      <th>0</th>\n",
       "      <td>1</td>\n",
       "      <td>2016-01-01</td>\n",
       "      <td>14629</td>\n",
       "    </tr>\n",
       "    <tr>\n",
       "      <th>1</th>\n",
       "      <td>1</td>\n",
       "      <td>2016-01-02</td>\n",
       "      <td>10679</td>\n",
       "    </tr>\n",
       "    <tr>\n",
       "      <th>2</th>\n",
       "      <td>1</td>\n",
       "      <td>2016-01-03</td>\n",
       "      <td>9813</td>\n",
       "    </tr>\n",
       "    <tr>\n",
       "      <th>3</th>\n",
       "      <td>1</td>\n",
       "      <td>2016-01-04</td>\n",
       "      <td>9989</td>\n",
       "    </tr>\n",
       "    <tr>\n",
       "      <th>4</th>\n",
       "      <td>1</td>\n",
       "      <td>2016-01-05</td>\n",
       "      <td>9946</td>\n",
       "    </tr>\n",
       "    <tr>\n",
       "      <th>5</th>\n",
       "      <td>1</td>\n",
       "      <td>2016-01-06</td>\n",
       "      <td>9724</td>\n",
       "    </tr>\n",
       "    <tr>\n",
       "      <th>6</th>\n",
       "      <td>1</td>\n",
       "      <td>2016-01-07</td>\n",
       "      <td>9754</td>\n",
       "    </tr>\n",
       "    <tr>\n",
       "      <th>7</th>\n",
       "      <td>1</td>\n",
       "      <td>2016-01-08</td>\n",
       "      <td>11754</td>\n",
       "    </tr>\n",
       "    <tr>\n",
       "      <th>8</th>\n",
       "      <td>1</td>\n",
       "      <td>2016-01-09</td>\n",
       "      <td>12677</td>\n",
       "    </tr>\n",
       "    <tr>\n",
       "      <th>9</th>\n",
       "      <td>1</td>\n",
       "      <td>2016-01-10</td>\n",
       "      <td>11287</td>\n",
       "    </tr>\n",
       "    <tr>\n",
       "      <th>10</th>\n",
       "      <td>1</td>\n",
       "      <td>2016-01-11</td>\n",
       "      <td>9912</td>\n",
       "    </tr>\n",
       "    <tr>\n",
       "      <th>11</th>\n",
       "      <td>1</td>\n",
       "      <td>2016-01-12</td>\n",
       "      <td>9638</td>\n",
       "    </tr>\n",
       "    <tr>\n",
       "      <th>12</th>\n",
       "      <td>1</td>\n",
       "      <td>2016-01-13</td>\n",
       "      <td>10929</td>\n",
       "    </tr>\n",
       "    <tr>\n",
       "      <th>13</th>\n",
       "      <td>1</td>\n",
       "      <td>2016-01-14</td>\n",
       "      <td>10785</td>\n",
       "    </tr>\n",
       "    <tr>\n",
       "      <th>14</th>\n",
       "      <td>1</td>\n",
       "      <td>2016-01-15</td>\n",
       "      <td>12238</td>\n",
       "    </tr>\n",
       "    <tr>\n",
       "      <th>15</th>\n",
       "      <td>1</td>\n",
       "      <td>2016-01-16</td>\n",
       "      <td>13525</td>\n",
       "    </tr>\n",
       "    <tr>\n",
       "      <th>16</th>\n",
       "      <td>1</td>\n",
       "      <td>2016-01-17</td>\n",
       "      <td>11566</td>\n",
       "    </tr>\n",
       "    <tr>\n",
       "      <th>17</th>\n",
       "      <td>1</td>\n",
       "      <td>2016-01-18</td>\n",
       "      <td>8905</td>\n",
       "    </tr>\n",
       "    <tr>\n",
       "      <th>18</th>\n",
       "      <td>1</td>\n",
       "      <td>2016-01-19</td>\n",
       "      <td>10139</td>\n",
       "    </tr>\n",
       "    <tr>\n",
       "      <th>19</th>\n",
       "      <td>1</td>\n",
       "      <td>2016-01-20</td>\n",
       "      <td>10313</td>\n",
       "    </tr>\n",
       "    <tr>\n",
       "      <th>20</th>\n",
       "      <td>1</td>\n",
       "      <td>2016-01-21</td>\n",
       "      <td>11137</td>\n",
       "    </tr>\n",
       "    <tr>\n",
       "      <th>21</th>\n",
       "      <td>1</td>\n",
       "      <td>2016-01-22</td>\n",
       "      <td>13377</td>\n",
       "    </tr>\n",
       "    <tr>\n",
       "      <th>22</th>\n",
       "      <td>1</td>\n",
       "      <td>2016-01-23</td>\n",
       "      <td>2533</td>\n",
       "    </tr>\n",
       "    <tr>\n",
       "      <th>23</th>\n",
       "      <td>1</td>\n",
       "      <td>2016-01-24</td>\n",
       "      <td>5427</td>\n",
       "    </tr>\n",
       "    <tr>\n",
       "      <th>24</th>\n",
       "      <td>1</td>\n",
       "      <td>2016-01-25</td>\n",
       "      <td>10263</td>\n",
       "    </tr>\n",
       "    <tr>\n",
       "      <th>25</th>\n",
       "      <td>1</td>\n",
       "      <td>2016-01-26</td>\n",
       "      <td>10094</td>\n",
       "    </tr>\n",
       "    <tr>\n",
       "      <th>26</th>\n",
       "      <td>1</td>\n",
       "      <td>2016-01-27</td>\n",
       "      <td>10568</td>\n",
       "    </tr>\n",
       "    <tr>\n",
       "      <th>27</th>\n",
       "      <td>1</td>\n",
       "      <td>2016-01-28</td>\n",
       "      <td>11037</td>\n",
       "    </tr>\n",
       "    <tr>\n",
       "      <th>28</th>\n",
       "      <td>1</td>\n",
       "      <td>2016-01-29</td>\n",
       "      <td>13536</td>\n",
       "    </tr>\n",
       "    <tr>\n",
       "      <th>29</th>\n",
       "      <td>1</td>\n",
       "      <td>2016-01-30</td>\n",
       "      <td>14829</td>\n",
       "    </tr>\n",
       "    <tr>\n",
       "      <th>...</th>\n",
       "      <td>...</td>\n",
       "      <td>...</td>\n",
       "      <td>...</td>\n",
       "    </tr>\n",
       "    <tr>\n",
       "      <th>32</th>\n",
       "      <td>2</td>\n",
       "      <td>2016-01-02</td>\n",
       "      <td>38231</td>\n",
       "    </tr>\n",
       "    <tr>\n",
       "      <th>33</th>\n",
       "      <td>2</td>\n",
       "      <td>2016-01-03</td>\n",
       "      <td>36462</td>\n",
       "    </tr>\n",
       "    <tr>\n",
       "      <th>34</th>\n",
       "      <td>2</td>\n",
       "      <td>2016-01-04</td>\n",
       "      <td>35621</td>\n",
       "    </tr>\n",
       "    <tr>\n",
       "      <th>35</th>\n",
       "      <td>2</td>\n",
       "      <td>2016-01-05</td>\n",
       "      <td>34337</td>\n",
       "    </tr>\n",
       "    <tr>\n",
       "      <th>36</th>\n",
       "      <td>2</td>\n",
       "      <td>2016-01-06</td>\n",
       "      <td>34280</td>\n",
       "    </tr>\n",
       "    <tr>\n",
       "      <th>37</th>\n",
       "      <td>2</td>\n",
       "      <td>2016-01-07</td>\n",
       "      <td>35266</td>\n",
       "    </tr>\n",
       "    <tr>\n",
       "      <th>38</th>\n",
       "      <td>2</td>\n",
       "      <td>2016-01-08</td>\n",
       "      <td>41656</td>\n",
       "    </tr>\n",
       "    <tr>\n",
       "      <th>39</th>\n",
       "      <td>2</td>\n",
       "      <td>2016-01-09</td>\n",
       "      <td>46950</td>\n",
       "    </tr>\n",
       "    <tr>\n",
       "      <th>40</th>\n",
       "      <td>2</td>\n",
       "      <td>2016-01-10</td>\n",
       "      <td>41176</td>\n",
       "    </tr>\n",
       "    <tr>\n",
       "      <th>41</th>\n",
       "      <td>2</td>\n",
       "      <td>2016-01-11</td>\n",
       "      <td>33774</td>\n",
       "    </tr>\n",
       "    <tr>\n",
       "      <th>42</th>\n",
       "      <td>2</td>\n",
       "      <td>2016-01-12</td>\n",
       "      <td>33632</td>\n",
       "    </tr>\n",
       "    <tr>\n",
       "      <th>43</th>\n",
       "      <td>2</td>\n",
       "      <td>2016-01-13</td>\n",
       "      <td>37251</td>\n",
       "    </tr>\n",
       "    <tr>\n",
       "      <th>44</th>\n",
       "      <td>2</td>\n",
       "      <td>2016-01-14</td>\n",
       "      <td>37559</td>\n",
       "    </tr>\n",
       "    <tr>\n",
       "      <th>45</th>\n",
       "      <td>2</td>\n",
       "      <td>2016-01-15</td>\n",
       "      <td>43497</td>\n",
       "    </tr>\n",
       "    <tr>\n",
       "      <th>46</th>\n",
       "      <td>2</td>\n",
       "      <td>2016-01-16</td>\n",
       "      <td>49212</td>\n",
       "    </tr>\n",
       "    <tr>\n",
       "      <th>47</th>\n",
       "      <td>2</td>\n",
       "      <td>2016-01-17</td>\n",
       "      <td>43785</td>\n",
       "    </tr>\n",
       "    <tr>\n",
       "      <th>48</th>\n",
       "      <td>2</td>\n",
       "      <td>2016-01-18</td>\n",
       "      <td>31815</td>\n",
       "    </tr>\n",
       "    <tr>\n",
       "      <th>49</th>\n",
       "      <td>2</td>\n",
       "      <td>2016-01-19</td>\n",
       "      <td>35941</td>\n",
       "    </tr>\n",
       "    <tr>\n",
       "      <th>50</th>\n",
       "      <td>2</td>\n",
       "      <td>2016-01-20</td>\n",
       "      <td>35731</td>\n",
       "    </tr>\n",
       "    <tr>\n",
       "      <th>51</th>\n",
       "      <td>2</td>\n",
       "      <td>2016-01-21</td>\n",
       "      <td>40056</td>\n",
       "    </tr>\n",
       "    <tr>\n",
       "      <th>52</th>\n",
       "      <td>2</td>\n",
       "      <td>2016-01-22</td>\n",
       "      <td>47087</td>\n",
       "    </tr>\n",
       "    <tr>\n",
       "      <th>53</th>\n",
       "      <td>2</td>\n",
       "      <td>2016-01-23</td>\n",
       "      <td>9121</td>\n",
       "    </tr>\n",
       "    <tr>\n",
       "      <th>54</th>\n",
       "      <td>2</td>\n",
       "      <td>2016-01-24</td>\n",
       "      <td>17664</td>\n",
       "    </tr>\n",
       "    <tr>\n",
       "      <th>55</th>\n",
       "      <td>2</td>\n",
       "      <td>2016-01-25</td>\n",
       "      <td>35296</td>\n",
       "    </tr>\n",
       "    <tr>\n",
       "      <th>56</th>\n",
       "      <td>2</td>\n",
       "      <td>2016-01-26</td>\n",
       "      <td>36834</td>\n",
       "    </tr>\n",
       "    <tr>\n",
       "      <th>57</th>\n",
       "      <td>2</td>\n",
       "      <td>2016-01-27</td>\n",
       "      <td>37713</td>\n",
       "    </tr>\n",
       "    <tr>\n",
       "      <th>58</th>\n",
       "      <td>2</td>\n",
       "      <td>2016-01-28</td>\n",
       "      <td>39133</td>\n",
       "    </tr>\n",
       "    <tr>\n",
       "      <th>59</th>\n",
       "      <td>2</td>\n",
       "      <td>2016-01-29</td>\n",
       "      <td>46788</td>\n",
       "    </tr>\n",
       "    <tr>\n",
       "      <th>60</th>\n",
       "      <td>2</td>\n",
       "      <td>2016-01-30</td>\n",
       "      <td>53925</td>\n",
       "    </tr>\n",
       "    <tr>\n",
       "      <th>61</th>\n",
       "      <td>2</td>\n",
       "      <td>2016-01-31</td>\n",
       "      <td>43188</td>\n",
       "    </tr>\n",
       "  </tbody>\n",
       "</table>\n",
       "<p>62 rows × 3 columns</p>\n",
       "</div>"
      ],
      "text/plain": [
       "    VendorID pickup_date  ride_count\n",
       "0          1  2016-01-01       14629\n",
       "1          1  2016-01-02       10679\n",
       "2          1  2016-01-03        9813\n",
       "3          1  2016-01-04        9989\n",
       "4          1  2016-01-05        9946\n",
       "5          1  2016-01-06        9724\n",
       "6          1  2016-01-07        9754\n",
       "7          1  2016-01-08       11754\n",
       "8          1  2016-01-09       12677\n",
       "9          1  2016-01-10       11287\n",
       "10         1  2016-01-11        9912\n",
       "11         1  2016-01-12        9638\n",
       "12         1  2016-01-13       10929\n",
       "13         1  2016-01-14       10785\n",
       "14         1  2016-01-15       12238\n",
       "15         1  2016-01-16       13525\n",
       "16         1  2016-01-17       11566\n",
       "17         1  2016-01-18        8905\n",
       "18         1  2016-01-19       10139\n",
       "19         1  2016-01-20       10313\n",
       "20         1  2016-01-21       11137\n",
       "21         1  2016-01-22       13377\n",
       "22         1  2016-01-23        2533\n",
       "23         1  2016-01-24        5427\n",
       "24         1  2016-01-25       10263\n",
       "25         1  2016-01-26       10094\n",
       "26         1  2016-01-27       10568\n",
       "27         1  2016-01-28       11037\n",
       "28         1  2016-01-29       13536\n",
       "29         1  2016-01-30       14829\n",
       "..       ...         ...         ...\n",
       "32         2  2016-01-02       38231\n",
       "33         2  2016-01-03       36462\n",
       "34         2  2016-01-04       35621\n",
       "35         2  2016-01-05       34337\n",
       "36         2  2016-01-06       34280\n",
       "37         2  2016-01-07       35266\n",
       "38         2  2016-01-08       41656\n",
       "39         2  2016-01-09       46950\n",
       "40         2  2016-01-10       41176\n",
       "41         2  2016-01-11       33774\n",
       "42         2  2016-01-12       33632\n",
       "43         2  2016-01-13       37251\n",
       "44         2  2016-01-14       37559\n",
       "45         2  2016-01-15       43497\n",
       "46         2  2016-01-16       49212\n",
       "47         2  2016-01-17       43785\n",
       "48         2  2016-01-18       31815\n",
       "49         2  2016-01-19       35941\n",
       "50         2  2016-01-20       35731\n",
       "51         2  2016-01-21       40056\n",
       "52         2  2016-01-22       47087\n",
       "53         2  2016-01-23        9121\n",
       "54         2  2016-01-24       17664\n",
       "55         2  2016-01-25       35296\n",
       "56         2  2016-01-26       36834\n",
       "57         2  2016-01-27       37713\n",
       "58         2  2016-01-28       39133\n",
       "59         2  2016-01-29       46788\n",
       "60         2  2016-01-30       53925\n",
       "61         2  2016-01-31       43188\n",
       "\n",
       "[62 rows x 3 columns]"
      ]
     },
     "execution_count": 11,
     "metadata": {},
     "output_type": "execute_result"
    }
   ],
   "source": [
    "import pandas as pd\n",
    "\n",
    "pd.DataFrame.from_records(comp.get_records())"
   ]
  },
  {
   "cell_type": "code",
   "execution_count": null,
   "metadata": {},
   "outputs": [],
   "source": []
  }
 ],
 "metadata": {
  "kernelspec": {
   "display_name": "Python 3",
   "language": "python",
   "name": "python3"
  },
  "language_info": {
   "codemirror_mode": {
    "name": "ipython",
    "version": 3
   },
   "file_extension": ".py",
   "mimetype": "text/x-python",
   "name": "python",
   "nbconvert_exporter": "python",
   "pygments_lexer": "ipython3",
   "version": "3.7.4"
  }
 },
 "nbformat": 4,
 "nbformat_minor": 2
}
